{
 "cells": [
  {
   "metadata": {
    "ExecuteTime": {
     "end_time": "2024-08-02T02:11:34.142337Z",
     "start_time": "2024-08-02T02:11:31.799391Z"
    }
   },
   "cell_type": "code",
   "source": [
    "import torch\n",
    "import torch.nn as nn\n",
    "from torch.nn import functional as F\n",
    "import pickle\n",
    "device = 'cuda' if torch.cuda.is_available() else 'cpu'\n",
    "block_size = 64\n",
    "batch_size = 128\n",
    "max_iters = 3000\n",
    "learning_rate = 3e-4\n",
    "eval_iters = 100\n",
    "n_embd = 384\n",
    "n_head = 8\n",
    "n_layer = 8\n",
    "dropout = 0.2"
   ],
   "id": "initial_id",
   "outputs": [
    {
     "name": "stderr",
     "output_type": "stream",
     "text": [
      "\n",
      "A module that was compiled using NumPy 1.x cannot be run in\n",
      "NumPy 2.0.1 as it may crash. To support both 1.x and 2.x\n",
      "versions of NumPy, modules must be compiled with NumPy 2.0.\n",
      "Some module may need to rebuild instead e.g. with 'pybind11>=2.12'.\n",
      "\n",
      "If you are a user of the module, the easiest solution will be to\n",
      "downgrade to 'numpy<2' or try to upgrade the affected module.\n",
      "We expect that some modules will need time to support NumPy 2.\n",
      "\n",
      "Traceback (most recent call last):  File \"C:\\Users\\Jose\\anaconda3\\Lib\\runpy.py\", line 198, in _run_module_as_main\n",
      "    return _run_code(code, main_globals, None,\n",
      "  File \"C:\\Users\\Jose\\anaconda3\\Lib\\runpy.py\", line 88, in _run_code\n",
      "    exec(code, run_globals)\n",
      "  File \"C:\\Users\\Jose\\PycharmProjects\\fcc-gpt-course\\cuda\\Lib\\site-packages\\ipykernel_launcher.py\", line 18, in <module>\n",
      "    app.launch_new_instance()\n",
      "  File \"C:\\Users\\Jose\\PycharmProjects\\fcc-gpt-course\\cuda\\Lib\\site-packages\\traitlets\\config\\application.py\", line 1075, in launch_instance\n",
      "    app.start()\n",
      "  File \"C:\\Users\\Jose\\PycharmProjects\\fcc-gpt-course\\cuda\\Lib\\site-packages\\ipykernel\\kernelapp.py\", line 739, in start\n",
      "    self.io_loop.start()\n",
      "  File \"C:\\Users\\Jose\\PycharmProjects\\fcc-gpt-course\\cuda\\Lib\\site-packages\\tornado\\platform\\asyncio.py\", line 205, in start\n",
      "    self.asyncio_loop.run_forever()\n",
      "  File \"C:\\Users\\Jose\\anaconda3\\Lib\\asyncio\\base_events.py\", line 607, in run_forever\n",
      "    self._run_once()\n",
      "  File \"C:\\Users\\Jose\\anaconda3\\Lib\\asyncio\\base_events.py\", line 1922, in _run_once\n",
      "    handle._run()\n",
      "  File \"C:\\Users\\Jose\\anaconda3\\Lib\\asyncio\\events.py\", line 80, in _run\n",
      "    self._context.run(self._callback, *self._args)\n",
      "  File \"C:\\Users\\Jose\\PycharmProjects\\fcc-gpt-course\\cuda\\Lib\\site-packages\\ipykernel\\kernelbase.py\", line 545, in dispatch_queue\n",
      "    await self.process_one()\n",
      "  File \"C:\\Users\\Jose\\PycharmProjects\\fcc-gpt-course\\cuda\\Lib\\site-packages\\ipykernel\\kernelbase.py\", line 534, in process_one\n",
      "    await dispatch(*args)\n",
      "  File \"C:\\Users\\Jose\\PycharmProjects\\fcc-gpt-course\\cuda\\Lib\\site-packages\\ipykernel\\kernelbase.py\", line 437, in dispatch_shell\n",
      "    await result\n",
      "  File \"C:\\Users\\Jose\\PycharmProjects\\fcc-gpt-course\\cuda\\Lib\\site-packages\\ipykernel\\ipkernel.py\", line 362, in execute_request\n",
      "    await super().execute_request(stream, ident, parent)\n",
      "  File \"C:\\Users\\Jose\\PycharmProjects\\fcc-gpt-course\\cuda\\Lib\\site-packages\\ipykernel\\kernelbase.py\", line 778, in execute_request\n",
      "    reply_content = await reply_content\n",
      "  File \"C:\\Users\\Jose\\PycharmProjects\\fcc-gpt-course\\cuda\\Lib\\site-packages\\ipykernel\\ipkernel.py\", line 449, in do_execute\n",
      "    res = shell.run_cell(\n",
      "  File \"C:\\Users\\Jose\\PycharmProjects\\fcc-gpt-course\\cuda\\Lib\\site-packages\\ipykernel\\zmqshell.py\", line 549, in run_cell\n",
      "    return super().run_cell(*args, **kwargs)\n",
      "  File \"C:\\Users\\Jose\\PycharmProjects\\fcc-gpt-course\\cuda\\Lib\\site-packages\\IPython\\core\\interactiveshell.py\", line 3075, in run_cell\n",
      "    result = self._run_cell(\n",
      "  File \"C:\\Users\\Jose\\PycharmProjects\\fcc-gpt-course\\cuda\\Lib\\site-packages\\IPython\\core\\interactiveshell.py\", line 3130, in _run_cell\n",
      "    result = runner(coro)\n",
      "  File \"C:\\Users\\Jose\\PycharmProjects\\fcc-gpt-course\\cuda\\Lib\\site-packages\\IPython\\core\\async_helpers.py\", line 128, in _pseudo_sync_runner\n",
      "    coro.send(None)\n",
      "  File \"C:\\Users\\Jose\\PycharmProjects\\fcc-gpt-course\\cuda\\Lib\\site-packages\\IPython\\core\\interactiveshell.py\", line 3334, in run_cell_async\n",
      "    has_raised = await self.run_ast_nodes(code_ast.body, cell_name,\n",
      "  File \"C:\\Users\\Jose\\PycharmProjects\\fcc-gpt-course\\cuda\\Lib\\site-packages\\IPython\\core\\interactiveshell.py\", line 3517, in run_ast_nodes\n",
      "    if await self.run_code(code, result, async_=asy):\n",
      "  File \"C:\\Users\\Jose\\PycharmProjects\\fcc-gpt-course\\cuda\\Lib\\site-packages\\IPython\\core\\interactiveshell.py\", line 3577, in run_code\n",
      "    exec(code_obj, self.user_global_ns, self.user_ns)\n",
      "  File \"C:\\Users\\Jose\\AppData\\Local\\Temp\\ipykernel_13272\\1908317355.py\", line 1, in <module>\n",
      "    import torch\n",
      "  File \"C:\\Users\\Jose\\PycharmProjects\\fcc-gpt-course\\cuda\\Lib\\site-packages\\torch\\__init__.py\", line 2120, in <module>\n",
      "    from torch._higher_order_ops import cond\n",
      "  File \"C:\\Users\\Jose\\PycharmProjects\\fcc-gpt-course\\cuda\\Lib\\site-packages\\torch\\_higher_order_ops\\__init__.py\", line 1, in <module>\n",
      "    from .cond import cond\n",
      "  File \"C:\\Users\\Jose\\PycharmProjects\\fcc-gpt-course\\cuda\\Lib\\site-packages\\torch\\_higher_order_ops\\cond.py\", line 5, in <module>\n",
      "    import torch._subclasses.functional_tensor\n",
      "  File \"C:\\Users\\Jose\\PycharmProjects\\fcc-gpt-course\\cuda\\Lib\\site-packages\\torch\\_subclasses\\functional_tensor.py\", line 42, in <module>\n",
      "    class FunctionalTensor(torch.Tensor):\n",
      "  File \"C:\\Users\\Jose\\PycharmProjects\\fcc-gpt-course\\cuda\\Lib\\site-packages\\torch\\_subclasses\\functional_tensor.py\", line 258, in FunctionalTensor\n",
      "    cpu = _conversion_method_template(device=torch.device(\"cpu\"))\n",
      "C:\\Users\\Jose\\PycharmProjects\\fcc-gpt-course\\cuda\\Lib\\site-packages\\torch\\_subclasses\\functional_tensor.py:258: UserWarning: Failed to initialize NumPy: _ARRAY_API not found (Triggered internally at C:\\actions-runner\\_work\\pytorch\\pytorch\\builder\\windows\\pytorch\\torch\\csrc\\utils\\tensor_numpy.cpp:84.)\n",
      "  cpu = _conversion_method_template(device=torch.device(\"cpu\"))\n"
     ]
    }
   ],
   "execution_count": 1
  },
  {
   "metadata": {
    "ExecuteTime": {
     "end_time": "2024-08-02T02:11:34.152292Z",
     "start_time": "2024-08-02T02:11:34.143847Z"
    }
   },
   "cell_type": "code",
   "source": [
    "with open('wizard_of_oz.txt', 'r', encoding ='utf-8') as f:\n",
    "    text = f.read()\n",
    "chars = sorted(set(text))\n",
    "vocab_size = len(chars)"
   ],
   "id": "b3eeb4a64cc49142",
   "outputs": [],
   "execution_count": 2
  },
  {
   "metadata": {
    "ExecuteTime": {
     "end_time": "2024-08-02T02:11:34.189312Z",
     "start_time": "2024-08-02T02:11:34.152292Z"
    }
   },
   "cell_type": "code",
   "source": [
    "string_to_int = {ch:i for i, ch in enumerate(chars)}\n",
    "int_to_string = {i:ch for i, ch in enumerate(chars)}\n",
    "encode = lambda s: [string_to_int[c] for c in s]\n",
    "decode = lambda l: \"\".join([int_to_string[i] for i in l])\n",
    "\n",
    "data = torch.tensor(encode(text), dtype = torch.long)"
   ],
   "id": "c6726d16963de501",
   "outputs": [],
   "execution_count": 3
  },
  {
   "metadata": {
    "ExecuteTime": {
     "end_time": "2024-08-02T02:11:34.195304Z",
     "start_time": "2024-08-02T02:11:34.189312Z"
    }
   },
   "cell_type": "code",
   "source": [
    "n = int(0.8*len(data))\n",
    "train_data = data[:n]\n",
    "val_data = data[n:]\n",
    "\n",
    "def get_batch(split):\n",
    "    data = train_data if split == 'train' else val_data\n",
    "    ix = torch.randint(len(data) - block_size, (batch_size,))\n",
    "    x = torch.stack([data[i:i + block_size] for i in ix])\n",
    "    y = torch.stack([data[i+1: i + block_size + 1] for i in ix])\n",
    "    x, y = x.to(device), y.to(device)\n",
    "\n",
    "    return x, y"
   ],
   "id": "ad048f427963da88",
   "outputs": [],
   "execution_count": 4
  },
  {
   "metadata": {
    "ExecuteTime": {
     "end_time": "2024-08-02T02:11:34.202244Z",
     "start_time": "2024-08-02T02:11:34.195304Z"
    }
   },
   "cell_type": "code",
   "source": [
    "@torch.no_grad()\n",
    "def estimate_loss():\n",
    "    out = {}\n",
    "    model.eval()\n",
    "    for split in ['train', 'val']:\n",
    "        losses = torch.zeros(eval_iters)\n",
    "        for k in range(eval_iters):\n",
    "            X, Y = get_batch(split)\n",
    "            logits, loss = model(X, Y)\n",
    "            losses[k] = loss.item()\n",
    "        out[split] = losses.mean()\n",
    "    model.train()\n",
    "    return out"
   ],
   "id": "251d5cc5ccef37f9",
   "outputs": [],
   "execution_count": 5
  },
  {
   "metadata": {
    "ExecuteTime": {
     "end_time": "2024-08-02T02:11:34.209969Z",
     "start_time": "2024-08-02T02:11:34.202244Z"
    }
   },
   "cell_type": "code",
   "source": [
    "class Head (nn.Module):\n",
    "    \n",
    "    def __init__(self, head_size):\n",
    "        super().__init__( )\n",
    "        self.key = nn.Linear(n_embd, head_size, bias=False)\n",
    "        self.query = nn.Linear(n_embd, head_size, bias=False)\n",
    "        self.value = nn.Linear(n_embd, head_size, bias=False)\n",
    "        self.register_buffer('tril', torch.tril(torch.ones(block_size, block_size)))\n",
    "        self.dropout = nn.Dropout(dropout)\n",
    "        \n",
    "    def forward(self, x):\n",
    "        B,T,C = x.shape\n",
    "        k = self.key(x) \n",
    "        q = self.query(x) \n",
    "        wei = q @ k.transpose(-2,-1) * k.shape[-1]**-0.5 \n",
    "        wei = wei.masked_fill(self.tril[:T, :T] == 0, float('-inf')) \n",
    "        wei = F.softmax(wei, dim=-1) \n",
    "        wei = self.dropout(wei)\n",
    "        v = self.value(x)\n",
    "        out = wei @ v \n",
    "        return out"
   ],
   "id": "64bb849b562b6cf3",
   "outputs": [],
   "execution_count": 6
  },
  {
   "metadata": {
    "ExecuteTime": {
     "end_time": "2024-08-02T02:11:34.218036Z",
     "start_time": "2024-08-02T02:11:34.210974Z"
    }
   },
   "cell_type": "code",
   "source": [
    "class MultiHeadAttention(nn.Module):\n",
    "    \n",
    "    def __init__(self, num_heads, head_size):\n",
    "        super().__init__()\n",
    "        self.heads = nn.ModuleList([Head(head_size) for _ in range(num_heads)])\n",
    "        self.proj = nn.Linear(head_size*num_heads, n_embd)\n",
    "        self.dropout = nn.Dropout(p=0.2)\n",
    "    \n",
    "    def forward(self, x):\n",
    "        out = torch.cat([h(x) for h in self.heads], dim = -1)\n",
    "        out = self.dropout(self.proj(out))\n",
    "        return out"
   ],
   "id": "4263b553a3215c30",
   "outputs": [],
   "execution_count": 7
  },
  {
   "metadata": {
    "ExecuteTime": {
     "end_time": "2024-08-02T02:11:34.223632Z",
     "start_time": "2024-08-02T02:11:34.218036Z"
    }
   },
   "cell_type": "code",
   "source": [
    "class FeedForward(nn.Module):\n",
    "    \n",
    "    def __init__(self, n_embd):\n",
    "        super().__init__()\n",
    "        self.net = nn.Sequential(\n",
    "            nn.Linear(n_embd, 4*n_embd),\n",
    "            nn.ReLU(),\n",
    "            nn.Linear(4*n_embd, n_embd),\n",
    "            nn.Dropout(dropout),\n",
    "        )\n",
    "    \n",
    "    def forward(self, x):\n",
    "        return self.net(x)"
   ],
   "id": "aa611f29e9670103",
   "outputs": [],
   "execution_count": 8
  },
  {
   "metadata": {
    "ExecuteTime": {
     "end_time": "2024-08-02T02:11:34.230032Z",
     "start_time": "2024-08-02T02:11:34.223632Z"
    }
   },
   "cell_type": "code",
   "source": [
    "class Block(nn.Module):\n",
    "    \n",
    "    def __init__(self, n_embd, n_head):\n",
    "        super().__init__()\n",
    "        \n",
    "        head_size = n_embd // n_head\n",
    "        self.sa = MultiHeadAttention(n_head, head_size)\n",
    "        self.ffwd = FeedForward(n_embd)\n",
    "        self.ln1 = nn.LayerNorm(n_embd)\n",
    "        self.ln2 = nn.LayerNorm(n_embd)\n",
    "        \n",
    "    def forward(self, x):\n",
    "        y = self.sa(x)\n",
    "        x = self.ln1(x + y)\n",
    "        y = self.ffwd(x)\n",
    "        x = self.ln2(x + y)\n",
    "        \n",
    "        return x"
   ],
   "id": "6695c349639fa1bd",
   "outputs": [],
   "execution_count": 9
  },
  {
   "metadata": {
    "ExecuteTime": {
     "end_time": "2024-08-02T02:11:34.240048Z",
     "start_time": "2024-08-02T02:11:34.230032Z"
    }
   },
   "cell_type": "code",
   "source": [
    "class GPTLanguageModel(nn.Module):\n",
    "    def __init__(self, vocab_size):\n",
    "        super().__init__()\n",
    "        self.token_embedding_table = nn.Embedding(vocab_size, n_embd)\n",
    "        self.position_embedding_table = nn.Embedding(block_size, n_embd)\n",
    "        self.blocks = nn.Sequential(*[Block(n_embd, n_head = n_head) for _ in range(n_layer)])\n",
    "        self.ln_f = nn.LayerNorm(n_embd)\n",
    "        self.lm_head = nn.Linear(n_embd, vocab_size)\n",
    "        \n",
    "        self.apply(self._init_weights)\n",
    "        \n",
    "    def _init_weights(self, module):\n",
    "        if isinstance(module, nn.Linear):\n",
    "            torch.nn.init.normal_(module.weight, mean = 0.0, std = 0.02)\n",
    "            if module.bias is not None:\n",
    "                torch.nn.init.zeros_(module.bias)\n",
    "            elif isinstance(module, nn.Embedding):\n",
    "                torch.nn.init.normal_(module.weight, mean = 0.0, std = 0.02)\n",
    "\n",
    "    def forward(self, index, targets = None):\n",
    "        \n",
    "        B, T = index.shape\n",
    "        \n",
    "        tok_emb = self.token_embedding_table(index)\n",
    "        pos_emb = self.position_embedding_table(torch.arange(T, device=device))\n",
    "        x = tok_emb + pos_emb + pos_emb\n",
    "        x = self.blocks(x)\n",
    "        x = self.ln_f(x)\n",
    "        \n",
    "        logits = self.lm_head(x)\n",
    "        \n",
    "        if targets is not None:\n",
    "            B, T, C = logits.shape\n",
    "            logits = logits.view(B*T, C)\n",
    "            \n",
    "            targets = targets.view(B*T)\n",
    "            \n",
    "            loss = F.cross_entropy(logits, targets)\n",
    "            \n",
    "            return logits, loss\n",
    "        else: \n",
    "            loss = None\n",
    "            return logits, loss\n",
    "    \n",
    "    def generate(self, index, max_new_tokens):\n",
    "        \n",
    "        for _ in range(max_new_tokens):\n",
    "            index_cond = index[:, -block_size:]\n",
    "            logits, loss = self.forward(index_cond)\n",
    "            logits = logits[:,-1, :]\n",
    "            probs = F.softmax(logits, dim=-1)\n",
    "            index_next = torch.multinomial(probs, num_samples=1)\n",
    "            index = torch.cat([index, index_next], dim = 1)\n",
    "        \n",
    "        return index"
   ],
   "id": "d309d9b863312c42",
   "outputs": [],
   "execution_count": 10
  },
  {
   "metadata": {
    "ExecuteTime": {
     "end_time": "2024-08-02T02:11:34.554238Z",
     "start_time": "2024-08-02T02:11:34.240048Z"
    }
   },
   "cell_type": "code",
   "source": [
    "model = GPTLanguageModel(vocab_size)\n",
    "m = model.to(device)\n"
   ],
   "id": "cca3d9ea39c81455",
   "outputs": [],
   "execution_count": 11
  },
  {
   "metadata": {
    "ExecuteTime": {
     "end_time": "2024-08-02T02:46:43.390853Z",
     "start_time": "2024-08-02T02:46:43.140485Z"
    }
   },
   "cell_type": "code",
   "source": [
    "with open('model_01.pkl', \"rb\") as f:\n",
    "    model = pickle.load(f)\n",
    "m = model.to(device)"
   ],
   "id": "a9f7a70aea94bb0a",
   "outputs": [],
   "execution_count": 18
  },
  {
   "metadata": {
    "ExecuteTime": {
     "end_time": "2024-08-02T03:12:50.273699Z",
     "start_time": "2024-08-02T02:46:44.648295Z"
    }
   },
   "cell_type": "code",
   "source": [
    "\n",
    "optimizer = torch.optim.AdamW(model.parameters(), lr=learning_rate)\n",
    "\n",
    "for i in range(max_iters):\n",
    "    if i % eval_iters == 0:\n",
    "        losses = estimate_loss()\n",
    "        print(f\"step: {i}, train loss: {losses['train']:.3f}, val loss: {losses['val']:.3f}\")\n",
    "    \n",
    "    xb, yb = get_batch('train')\n",
    "    \n",
    "    logits, loss = model.forward(xb, yb)\n",
    "    \n",
    "    optimizer.zero_grad(set_to_none= True)\n",
    "    loss.backward()\n",
    "    optimizer.step()\n",
    "print(loss.item())\n"
   ],
   "id": "be2b734f1838c967",
   "outputs": [
    {
     "name": "stdout",
     "output_type": "stream",
     "text": [
      "step: 0, train loss: 0.347, val loss: 2.062\n",
      "step: 100, train loss: 0.325, val loss: 2.124\n",
      "step: 200, train loss: 0.309, val loss: 2.160\n",
      "step: 300, train loss: 0.297, val loss: 2.207\n",
      "step: 400, train loss: 0.289, val loss: 2.228\n",
      "step: 500, train loss: 0.279, val loss: 2.239\n",
      "step: 600, train loss: 0.270, val loss: 2.328\n",
      "step: 700, train loss: 0.262, val loss: 2.311\n",
      "step: 800, train loss: 0.258, val loss: 2.370\n",
      "step: 900, train loss: 0.251, val loss: 2.379\n",
      "step: 1000, train loss: 0.246, val loss: 2.442\n",
      "step: 1100, train loss: 0.240, val loss: 2.464\n",
      "step: 1200, train loss: 0.237, val loss: 2.502\n",
      "step: 1300, train loss: 0.232, val loss: 2.501\n",
      "step: 1400, train loss: 0.231, val loss: 2.507\n",
      "step: 1500, train loss: 0.226, val loss: 2.564\n",
      "step: 1600, train loss: 0.223, val loss: 2.594\n",
      "step: 1700, train loss: 0.222, val loss: 2.572\n",
      "step: 1800, train loss: 0.220, val loss: 2.631\n",
      "step: 1900, train loss: 0.216, val loss: 2.698\n",
      "step: 2000, train loss: 0.214, val loss: 2.727\n",
      "step: 2100, train loss: 0.212, val loss: 2.729\n",
      "step: 2200, train loss: 0.212, val loss: 2.766\n",
      "step: 2300, train loss: 0.211, val loss: 2.752\n",
      "step: 2400, train loss: 0.208, val loss: 2.795\n",
      "step: 2500, train loss: 0.207, val loss: 2.817\n",
      "step: 2600, train loss: 0.206, val loss: 2.821\n",
      "step: 2700, train loss: 0.204, val loss: 2.835\n",
      "step: 2800, train loss: 0.204, val loss: 2.855\n",
      "step: 2900, train loss: 0.203, val loss: 2.843\n",
      "0.32071954011917114\n"
     ]
    }
   ],
   "execution_count": 19
  },
  {
   "metadata": {
    "ExecuteTime": {
     "end_time": "2024-08-02T03:14:10.566438Z",
     "start_time": "2024-08-02T03:14:10.396880Z"
    }
   },
   "cell_type": "code",
   "source": [
    "with open('model_01.pkl', \"wb\") as f:\n",
    "    pickle.dump(model, f)"
   ],
   "id": "f506ed75e5c70778",
   "outputs": [],
   "execution_count": 20
  },
  {
   "metadata": {
    "ExecuteTime": {
     "end_time": "2024-08-02T03:14:12.561739Z",
     "start_time": "2024-08-02T03:14:12.284464Z"
    }
   },
   "cell_type": "code",
   "source": [
    "with open('model_01.pkl', \"rb\") as f:\n",
    "    model = pickle.load(f)"
   ],
   "id": "6034d26da704a98a",
   "outputs": [],
   "execution_count": 21
  },
  {
   "metadata": {
    "ExecuteTime": {
     "end_time": "2024-08-02T03:14:23.957353Z",
     "start_time": "2024-08-02T03:14:23.945542Z"
    }
   },
   "cell_type": "code",
   "source": "m = model.to(device)",
   "id": "2206e167cf96a200",
   "outputs": [],
   "execution_count": 22
  },
  {
   "metadata": {
    "ExecuteTime": {
     "end_time": "2024-08-02T03:43:13.216976Z",
     "start_time": "2024-08-02T03:43:11.519545Z"
    }
   },
   "cell_type": "code",
   "source": [
    "while True:\n",
    "    prompt = input(\"Prompt:\\n\")\n",
    "    context = torch.tensor(encode(prompt), dtype=torch.long, device=device)\n",
    "    generated_chars = decode(m.generate(context.unsqueeze(0), max_new_tokens=500)[0].tolist())\n",
    "    print(f'Completion:\\n{generated_chars}')"
   ],
   "id": "b9f23c53b4eaba2e",
   "outputs": [
    {
     "ename": "IndexError",
     "evalue": "index -1 is out of bounds for dimension 1 with size 0",
     "output_type": "error",
     "traceback": [
      "\u001B[1;31m---------------------------------------------------------------------------\u001B[0m",
      "\u001B[1;31mIndexError\u001B[0m                                Traceback (most recent call last)",
      "Cell \u001B[1;32mIn[26], line 4\u001B[0m\n\u001B[0;32m      2\u001B[0m prompt \u001B[38;5;241m=\u001B[39m \u001B[38;5;28minput\u001B[39m(\u001B[38;5;124m\"\u001B[39m\u001B[38;5;124mPrompt:\u001B[39m\u001B[38;5;130;01m\\n\u001B[39;00m\u001B[38;5;124m\"\u001B[39m)\n\u001B[0;32m      3\u001B[0m context \u001B[38;5;241m=\u001B[39m torch\u001B[38;5;241m.\u001B[39mtensor(encode(prompt), dtype\u001B[38;5;241m=\u001B[39mtorch\u001B[38;5;241m.\u001B[39mlong, device\u001B[38;5;241m=\u001B[39mdevice)\n\u001B[1;32m----> 4\u001B[0m generated_chars \u001B[38;5;241m=\u001B[39m decode(\u001B[43mm\u001B[49m\u001B[38;5;241;43m.\u001B[39;49m\u001B[43mgenerate\u001B[49m\u001B[43m(\u001B[49m\u001B[43mcontext\u001B[49m\u001B[38;5;241;43m.\u001B[39;49m\u001B[43munsqueeze\u001B[49m\u001B[43m(\u001B[49m\u001B[38;5;241;43m0\u001B[39;49m\u001B[43m)\u001B[49m\u001B[43m,\u001B[49m\u001B[43m \u001B[49m\u001B[43mmax_new_tokens\u001B[49m\u001B[38;5;241;43m=\u001B[39;49m\u001B[38;5;241;43m500\u001B[39;49m\u001B[43m)\u001B[49m[\u001B[38;5;241m0\u001B[39m]\u001B[38;5;241m.\u001B[39mtolist())\n\u001B[0;32m      5\u001B[0m \u001B[38;5;28mprint\u001B[39m(\u001B[38;5;124mf\u001B[39m\u001B[38;5;124m'\u001B[39m\u001B[38;5;124mCompletion:\u001B[39m\u001B[38;5;130;01m\\n\u001B[39;00m\u001B[38;5;132;01m{\u001B[39;00mgenerated_chars\u001B[38;5;132;01m}\u001B[39;00m\u001B[38;5;124m'\u001B[39m)\n",
      "Cell \u001B[1;32mIn[10], line 50\u001B[0m, in \u001B[0;36mGPTLanguageModel.generate\u001B[1;34m(self, index, max_new_tokens)\u001B[0m\n\u001B[0;32m     48\u001B[0m index_cond \u001B[38;5;241m=\u001B[39m index[:, \u001B[38;5;241m-\u001B[39mblock_size:]\n\u001B[0;32m     49\u001B[0m logits, loss \u001B[38;5;241m=\u001B[39m \u001B[38;5;28mself\u001B[39m\u001B[38;5;241m.\u001B[39mforward(index_cond)\n\u001B[1;32m---> 50\u001B[0m logits \u001B[38;5;241m=\u001B[39m \u001B[43mlogits\u001B[49m\u001B[43m[\u001B[49m\u001B[43m:\u001B[49m\u001B[43m,\u001B[49m\u001B[38;5;241;43m-\u001B[39;49m\u001B[38;5;241;43m1\u001B[39;49m\u001B[43m,\u001B[49m\u001B[43m \u001B[49m\u001B[43m:\u001B[49m\u001B[43m]\u001B[49m\n\u001B[0;32m     51\u001B[0m probs \u001B[38;5;241m=\u001B[39m F\u001B[38;5;241m.\u001B[39msoftmax(logits, dim\u001B[38;5;241m=\u001B[39m\u001B[38;5;241m-\u001B[39m\u001B[38;5;241m1\u001B[39m)\n\u001B[0;32m     52\u001B[0m index_next \u001B[38;5;241m=\u001B[39m torch\u001B[38;5;241m.\u001B[39mmultinomial(probs, num_samples\u001B[38;5;241m=\u001B[39m\u001B[38;5;241m1\u001B[39m)\n",
      "\u001B[1;31mIndexError\u001B[0m: index -1 is out of bounds for dimension 1 with size 0"
     ]
    }
   ],
   "execution_count": 26
  }
 ],
 "metadata": {
  "kernelspec": {
   "display_name": "cuda_gpt",
   "language": "python",
   "name": "cuda"
  },
  "language_info": {
   "codemirror_mode": {
    "name": "ipython",
    "version": 2
   },
   "file_extension": ".py",
   "mimetype": "text/x-python",
   "name": "python",
   "nbconvert_exporter": "python",
   "pygments_lexer": "ipython2",
   "version": "2.7.6"
  }
 },
 "nbformat": 4,
 "nbformat_minor": 5
}
