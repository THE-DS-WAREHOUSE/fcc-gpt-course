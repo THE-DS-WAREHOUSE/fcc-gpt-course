{
 "cells": [
  {
   "cell_type": "code",
   "id": "bfebb862-a834-4d8e-8e3f-f698c4ab2cb9",
   "metadata": {
    "ExecuteTime": {
     "end_time": "2024-08-01T08:18:03.292885Z",
     "start_time": "2024-08-01T08:18:03.287851Z"
    }
   },
   "source": [
    "import torch\n",
    "import torch.nn as nn\n",
    "from torch.nn import functional as F\n",
    "import numpy as np\n",
    "import time\n",
    "device = 'cuda' if torch.cuda.is_available() else 'cpu'\n",
    "block_size = 8\n",
    "batch_size = 4"
   ],
   "outputs": [],
   "execution_count": 47
  },
  {
   "cell_type": "code",
   "id": "ff1c040e-a9bd-452b-a2c3-6f65f6f848d4",
   "metadata": {
    "ExecuteTime": {
     "end_time": "2024-08-01T08:18:03.304883Z",
     "start_time": "2024-08-01T08:18:03.295894Z"
    }
   },
   "source": [
    "with open('wizard_of_oz.txt', 'r', encoding = 'utf-8') as f:\n",
    "    text = f.read()\n",
    "chars = sorted(set(text))\n",
    "vocab_size = len(chars)"
   ],
   "outputs": [],
   "execution_count": 48
  },
  {
   "cell_type": "code",
   "id": "9e881fee-dd10-4c60-9974-24efe7c0723d",
   "metadata": {
    "ExecuteTime": {
     "end_time": "2024-08-01T08:25:53.235607Z",
     "start_time": "2024-08-01T08:25:53.195206Z"
    }
   },
   "source": [
    "string_to_int = {ch:i for i, ch in enumerate(chars)}\n",
    "int_to_string = {i:ch for i, ch in enumerate(chars)}\n",
    "encode = lambda s: [string_to_int[c] for c in s]\n",
    "decode = lambda l: \"\".join([int_to_string[i] for i in l])\n",
    "\n",
    "\n",
    "data = torch.tensor(encode(text), dtype = torch.long)\n",
    "print(len(data))"
   ],
   "outputs": [
    {
     "name": "stdout",
     "output_type": "stream",
     "text": [
      "232309\n"
     ]
    }
   ],
   "execution_count": 63
  },
  {
   "cell_type": "code",
   "id": "b50b4830-0c3a-462d-a518-eeeb8cc62ca9",
   "metadata": {
    "ExecuteTime": {
     "end_time": "2024-08-01T08:22:37.642868Z",
     "start_time": "2024-08-01T08:22:37.635690Z"
    }
   },
   "source": [
    "n = int(0.8*len(data))\n",
    "train_data = data[:n]\n",
    "val_data = data[n:]\n",
    "\n",
    "def get_batch(split):\n",
    "    data = train_data if split == 'train' else val_data\n",
    "    ix = torch.randint(len(data) - block_size, (batch_size,))\n",
    "    x = torch.stack([data[i:i + block_size] for i in ix])\n",
    "    y = torch.stack([data[i+1: i + block_size + 1] for i in ix])\n",
    "    x, y = x.to(device), y.to(device)\n",
    "\n",
    "    return x, y\n",
    "\n",
    "@torch.no_grad()\n",
    "def estimate_loss():\n",
    "    out = {}\n",
    "    model.eval()\n",
    "    for split in ['train', 'val']:\n",
    "        losses = torch.zeros(eval_iters)\n",
    "        for k in range(eval_iters):\n",
    "            X, Y = get_batch(split)\n",
    "            logits, loss = model(X, Y)\n",
    "            losses[k] = loss.item()\n",
    "        out[split] = losses.mean()\n",
    "    model.train()\n",
    "    return out"
   ],
   "outputs": [],
   "execution_count": 59
  },
  {
   "cell_type": "code",
   "id": "1a9ea984-4c8e-4d47-b3c8-9d26fb584bdb",
   "metadata": {
    "ExecuteTime": {
     "end_time": "2024-08-01T08:18:03.365018Z",
     "start_time": "2024-08-01T08:18:03.356902Z"
    }
   },
   "source": [
    "class BigramLanguageModel(nn.Module):\n",
    "    def __init__(self, vocab_size):\n",
    "        super().__init__()\n",
    "        self.token_embedding_table = nn.Embedding(vocab_size, vocab_size)\n",
    "\n",
    "    def forward(self, index, targets = None):\n",
    "        \n",
    "        logits = self.token_embedding_table(index)\n",
    "        \n",
    "        if targets is not None:\n",
    "            B, T, C = logits.shape\n",
    "            logits = logits.view(B*T, C)\n",
    "            \n",
    "            targets = targets.view(B*T)\n",
    "            \n",
    "            loss = F.cross_entropy(logits, targets)\n",
    "            \n",
    "            return logits, loss\n",
    "        else: \n",
    "            loss = None\n",
    "            return logits, loss\n",
    "    \n",
    "    def generate(self, index, max_new_tokens):\n",
    "        \n",
    "        for _ in range(max_new_tokens):\n",
    "            logits, loss = self.forward(index)\n",
    "            logits = logits[:,-1, :]\n",
    "            probs = F.softmax(logits, dim=-1)\n",
    "            index_next = torch.multinomial(probs, num_samples=1)\n",
    "            index = torch.cat([index, index_next], dim = 1)\n",
    "        \n",
    "        return index"
   ],
   "outputs": [],
   "execution_count": 51
  },
  {
   "metadata": {
    "ExecuteTime": {
     "end_time": "2024-08-01T08:18:03.925011Z",
     "start_time": "2024-08-01T08:18:03.365018Z"
    }
   },
   "cell_type": "code",
   "source": [
    "model = BigramLanguageModel(vocab_size)\n",
    "m = model.to(device)\n",
    "context = torch.zeros((1,1), dtype=torch.long, device=device)\n",
    "generated_char = decode(m.generate(context, max_new_tokens=500)[0].tolist())\n",
    "\n",
    "generated_char"
   ],
   "id": "4e23eec5bfd2ce5a",
   "outputs": [
    {
     "data": {
      "text/plain": [
       "'\\n3;tO9&4jzgzGw(M\\n x*h-hzIpyd\\ufeffx\"AHDNOE2Wj*B?P6s:fd\\')QDGoO3fSTyr_9,bb39rq7fb-AZKFp?\\nFqDx)?6)r5W2g& (YGt6K[8*u&q\"36ghywnqQDJtJ\\ufeffhw&\"ynw65d(ZI.fgW)KRpLW U\\'\\nPVTquH26.kfzm,fuHwj*sx5mj1?Tt)ti]r(Ue(se:oDgzpPmiAhaT:let3i1?x(??e4eeNW3]x:l:(QSp\\n.\\n**UNX)q4Rb[ev3pHE5X)\\'qRDvq_ntPa\\ufeffg);5GFqC4KbrkL?OE PutNB\"Q6!nuEp9JGOBOTy4RFZ0OB_obAGlhiZ3;\\ufeffXol!RF(4VrX]!mi:e7X]i(;hv*m90cFK,4BOlfb_AzNgo2p5mHsHcsRfMlmSZih9K[TH*9wFKouY c-h;6K*\"Rvf)tkfF\\'xPutdJj9 sXE4HoevWzg-3p.EC-4MPjbGAy:P*2F_Vcg8Hw\\nPgVMCp55?KXlscy,;t_A0AMPlecOR;f][('"
      ]
     },
     "execution_count": 52,
     "metadata": {},
     "output_type": "execute_result"
    }
   ],
   "execution_count": 52
  },
  {
   "metadata": {
    "ExecuteTime": {
     "end_time": "2024-08-01T08:25:20.069167Z",
     "start_time": "2024-08-01T08:25:16.583573Z"
    }
   },
   "cell_type": "code",
   "source": [
    "max_iters = 1000\n",
    "learning_rate = 3e-4\n",
    "eval_iters = 250\n",
    "dropout = 0.2\n",
    "\n",
    "optimizer = torch.optim.AdamW(model.parameters(), lr=learning_rate)\n",
    "\n",
    "for i in range(max_iters):\n",
    "    if i % eval_iters == 0:\n",
    "        losses = estimate_loss()\n",
    "        print(f\"step: {i}, train loss: {losses['train']:.3f}, val loss: {losses['val']:.3f}\")\n",
    "    \n",
    "    xb, yb = get_batch('train')\n",
    "    \n",
    "    logits, loss = model.forward(xb, yb)\n",
    "    \n",
    "    optimizer.zero_grad(set_to_none= True)\n",
    "    loss.backward()\n",
    "    optimizer.step()\n",
    "print(loss.item())"
   ],
   "id": "1219d79945c518e6",
   "outputs": [
    {
     "name": "stdout",
     "output_type": "stream",
     "text": [
      "step: 0, train loss: 3.073, val loss: 3.098\n",
      "step: 250, train loss: 3.031, val loss: 3.082\n",
      "step: 500, train loss: 3.003, val loss: 3.044\n",
      "step: 750, train loss: 3.006, val loss: 3.034\n",
      "3.3169021606445312\n"
     ]
    }
   ],
   "execution_count": 62
  },
  {
   "metadata": {
    "ExecuteTime": {
     "end_time": "2024-08-01T08:18:03.983830Z",
     "start_time": "2024-08-01T08:18:03.983830Z"
    }
   },
   "cell_type": "code",
   "source": [
    "context = torch.zeros((1,1), dtype=torch.long, device=device)\n",
    "generated_char = decode(m.generate(context, max_new_tokens=500)[0].tolist())\n",
    "\n",
    "generated_char"
   ],
   "id": "49c490852648ad06",
   "outputs": [],
   "execution_count": null
  }
 ],
 "metadata": {
  "kernelspec": {
   "display_name": "cuda-gpt",
   "language": "python",
   "name": "cuda"
  },
  "language_info": {
   "codemirror_mode": {
    "name": "ipython",
    "version": 3
   },
   "file_extension": ".py",
   "mimetype": "text/x-python",
   "name": "python",
   "nbconvert_exporter": "python",
   "pygments_lexer": "ipython3",
   "version": "3.11.7"
  }
 },
 "nbformat": 4,
 "nbformat_minor": 5
}
